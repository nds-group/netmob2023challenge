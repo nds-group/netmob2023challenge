{
 "cells": [
  {
   "cell_type": "code",
   "execution_count": 13,
   "metadata": {},
   "outputs": [],
   "source": [
    "import json\n",
    "from matplotlib import pyplot as plt\n",
    "from shapely.geometry import shape as Shape\n",
    "\n",
    "plt.rcParams['font.size'] = 18"
   ]
  },
  {
   "cell_type": "markdown",
   "metadata": {},
   "source": [
    "## Constants"
   ]
  },
  {
   "cell_type": "code",
   "execution_count": 14,
   "metadata": {},
   "outputs": [],
   "source": [
    "cities_dims = {\n",
    "    'Bordeaux': (334, 342),\n",
    "    'Clermont-Ferrand': (208, 268),\n",
    "    'Dijon': (195, 234),\n",
    "    'France': (9742, 9588),\n",
    "    'Grenoble': (409, 251),\n",
    "    'Lille': (330, 342),\n",
    "    'Lyon': (426, 287),\n",
    "    'Mans': (228, 246),\n",
    "    'Marseille': (211, 210),\n",
    "    'Metz': (226, 269),\n",
    "    'Montpellier': (334, 327),\n",
    "    'Nancy': (151, 165),\n",
    "    'Nantes': (277, 425),\n",
    "    'Nice': (150, 214),\n",
    "    'Orleans': (282, 256),\n",
    "    'Paris': (409, 346),\n",
    "    'Rennes': (423, 370),\n",
    "    'Rouen': (327, 373),\n",
    "    'Saint-Etienne': (305, 501),\n",
    "    'Strasbourg': (296, 258),\n",
    "    'Toulouse': (280, 347),\n",
    "    'Tours': (251, 270)\n",
    "    }"
   ]
  },
  {
   "attachments": {},
   "cell_type": "markdown",
   "metadata": {},
   "source": [
    "## Load Data"
   ]
  },
  {
   "cell_type": "code",
   "execution_count": 15,
   "metadata": {},
   "outputs": [],
   "source": [
    "city_str = 'Lyon'\n",
    "\n",
    "n_rows, n_cols = cities_dims[city_str]\n",
    "\n",
    "city_geojson_file = f'./data/{city_str}.geojson'\n",
    "fd = open(city_geojson_file)\n",
    "city_geojson = json.load(fd)\n",
    "fd.close()"
   ]
  },
  {
   "cell_type": "code",
   "execution_count": 16,
   "metadata": {},
   "outputs": [
    {
     "data": {
      "text/plain": [
       "{'type': 'Feature',\n",
       " 'geometry': {'type': 'Polygon',\n",
       "  'coordinates': [[[4.7662070878542515, 45.55631465259445],\n",
       "    [4.766246657177647, 45.55721386239888],\n",
       "    [4.767526651889026, 45.5571860567685],\n",
       "    [4.767487061740877, 45.55628684742171],\n",
       "    [4.7662070878542515, 45.55631465259445]]]},\n",
       " 'properties': {'tile_id': 66}}"
      ]
     },
     "execution_count": 16,
     "metadata": {},
     "output_type": "execute_result"
    }
   ],
   "source": [
    "# showing one of the features\n",
    "city_geojson['features'][0]"
   ]
  },
  {
   "cell_type": "code",
   "execution_count": 17,
   "metadata": {},
   "outputs": [
    {
     "name": "stdout",
     "output_type": "stream",
     "text": [
      "row_index: 0, col_index: 66\n"
     ]
    }
   ],
   "source": [
    "tile_id = city_geojson['features'][0]['properties']['tile_id']\n",
    "\n",
    "row_index = int(tile_id // n_cols)\n",
    "col_index = int(tile_id % n_cols)\n",
    "print(f'row_index: {row_index}, col_index: {col_index}')"
   ]
  }
 ],
 "metadata": {
  "kernelspec": {
   "display_name": "dataScience",
   "language": "python",
   "name": "python3"
  },
  "language_info": {
   "codemirror_mode": {
    "name": "ipython",
    "version": 3
   },
   "file_extension": ".py",
   "mimetype": "text/x-python",
   "name": "python",
   "nbconvert_exporter": "python",
   "pygments_lexer": "ipython3",
   "version": "3.8.13"
  },
  "orig_nbformat": 4
 },
 "nbformat": 4,
 "nbformat_minor": 2
}
